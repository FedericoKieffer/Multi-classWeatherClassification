{
 "cells": [
  {
   "cell_type": "code",
   "execution_count": null,
   "metadata": {
    "colab": {
     "base_uri": "https://localhost:8080/",
     "height": 67
    },
    "id": "-Y-vM1bHbmtu",
    "outputId": "59458d82-6dad-4747-8a61-8ae03f112ead"
   },
   "outputs": [
    {
     "name": "stderr",
     "output_type": "stream",
     "text": [
      "Using TensorFlow backend.\n"
     ]
    },
    {
     "name": "stdout",
     "output_type": "stream",
     "text": [
      "Tensorflow version 1.15.0\n",
      "Found GPU at: /device:GPU:0\n"
     ]
    }
   ],
   "source": [
    "#IMPORT LIBRARIES\n",
    "\n",
    "%tensorflow_version 1.x\n",
    "\n",
    "import numpy as np\n",
    "import tensorflow as tf\n",
    "import keras\n",
    "import matplotlib.pyplot as plt\n",
    "import random\n",
    "import os\n",
    "import cv2\n",
    "from keras.preprocessing.image import ImageDataGenerator\n",
    "from sklearn.metrics import classification_report, confusion_matrix\n",
    "\n",
    "print(\"Tensorflow version %s\" %tf.__version__)\n",
    "\n",
    "device_name = tf.test.gpu_device_name()\n",
    "if device_name != '/device:GPU:0':\n",
    "    raise SystemError('GPU device not found')\n",
    "print('Found GPU at: {}'.format(device_name))"
   ]
  },
  {
   "cell_type": "code",
   "execution_count": null,
   "metadata": {
    "colab": {
     "base_uri": "https://localhost:8080/",
     "height": 33
    },
    "id": "_2dVKymvuZB8",
    "outputId": "0cee07e2-39ff-4ccb-ead7-41abbeba4da7"
   },
   "outputs": [
    {
     "name": "stdout",
     "output_type": "stream",
     "text": [
      "Mounted at /content/drive\n"
     ]
    }
   ],
   "source": [
    "#IMPORT DATA\n",
    "\n",
    "from google.colab import drive\n",
    "drive.mount('/content/drive', force_remount=True)\n",
    "\n",
    "datadir = '/content/drive/My Drive/MWI-public-custom'\n",
    "trainingset = datadir+'/train/'\n",
    "testset = datadir + '/test/'"
   ]
  },
  {
   "cell_type": "code",
   "execution_count": null,
   "metadata": {
    "colab": {
     "base_uri": "https://localhost:8080/",
     "height": 33
    },
    "id": "YW30IHi_A5Rw",
    "outputId": "9d5988ed-953a-49fb-a3ec-99905fe8ce68"
   },
   "outputs": [
    {
     "name": "stdout",
     "output_type": "stream",
     "text": [
      "400\n"
     ]
    }
   ],
   "source": [
    "#CREATE TRAINING SET\n",
    "\n",
    "from skimage import color\n",
    "training_set=[]\n",
    "PIXELS=200\n",
    "categories=[\"HAZE\", \"RAINY\", \"SNOWY\", \"SUNNY\"]\n",
    "\n",
    "def create_training_set():\n",
    "    for category in categories:\n",
    "    path = os.path.join(trainingset, category) #path to HAZE, RAINY, SNOWY or SUNNY\n",
    "    class_number = categories.index(category)\n",
    "    for img in os.listdir(path):\n",
    "        img_array = cv2.imread(os.path.join(path, img), cv2.IMREAD_COLOR) #path to images within each class\n",
    "        new_array = cv2.resize(img_array, (PIXELS, PIXELS))\n",
    "        training_set.append([new_array, class_number])\n",
    "\n",
    "create_training_set()\n",
    "print(len(training_set))      \n"
   ]
  },
  {
   "cell_type": "code",
   "execution_count": null,
   "metadata": {
    "colab": {
     "base_uri": "https://localhost:8080/",
     "height": 33
    },
    "id": "3cfkQdmsszp8",
    "outputId": "ff5988db-bc33-4d5b-defa-63f4fe9eaf38"
   },
   "outputs": [
    {
     "name": "stdout",
     "output_type": "stream",
     "text": [
      "400\n"
     ]
    }
   ],
   "source": [
    "#CREATE TEST SET\n",
    "\n",
    "test_set=[]\n",
    "PIXELS=200\n",
    "categories=[\"HAZE\", \"RAINY\", \"SNOWY\", \"SUNNY\"]\n",
    "\n",
    "def create_test_set():\n",
    "    for category in categories:\n",
    "    path = os.path.join(testset, category) #path to HAZE, RAINY, SNOWY or SUNNY\n",
    "    class_number = categories.index(category)\n",
    "    for img in os.listdir(path):\n",
    "        img_array = cv2.imread(os.path.join(path, img), cv2.IMREAD_COLOR) #path to images within each class\n",
    "        new_array = cv2.resize(img_array, (PIXELS, PIXELS))\n",
    "        test_set.append([new_array, class_number])\n",
    "\n",
    "create_test_set()\n",
    "print(len(test_set))      "
   ]
  },
  {
   "cell_type": "code",
   "execution_count": null,
   "metadata": {
    "colab": {
     "base_uri": "https://localhost:8080/",
     "height": 33
    },
    "id": "qG_4e-4RJyIb",
    "outputId": "d3e514ec-5585-4b3d-fe94-001ec1068af8"
   },
   "outputs": [
    {
     "name": "stdout",
     "output_type": "stream",
     "text": [
      "1600\n"
     ]
    }
   ],
   "source": [
    "#CREATE AUGMENTED TRAINING SET\n",
    "\n",
    "import cv2\n",
    "import numpy as np\n",
    "from matplotlib import pyplot as plt\n",
    "from skimage import color\n",
    "\n",
    "\n",
    "augmented_training_set=[]\n",
    "\n",
    "def create_augmented_training_set():\n",
    "    for category in categories:\n",
    "    path = os.path.join(trainingset, category) #path to HAZE, RAINY, SNOWY or SUNNY\n",
    "    class_number = categories.index(category)\n",
    "    for img in os.listdir(path):\n",
    "        #Add original image to dataset\n",
    "        img_array = cv2.imread(os.path.join(path, img), cv2.IMREAD_COLOR) #path to images within each class\n",
    "        new_array = cv2.resize(img_array, (PIXELS, PIXELS))\n",
    "        augmented_training_set.append([new_array/255, class_number]) #import already normalized color images\n",
    "        #Add Spectral Image to dataset\n",
    "        spectral_image = cv2.applyColorMap(new_array, cv2.COLORMAP_RAINBOW)\n",
    "        augmented_training_set.append([spectral_image/255, class_number])\n",
    "        #Add blurred version of the image to the dataset\n",
    "        blurred_image = cv2.GaussianBlur(new_array, (5,5), cv2.BORDER_DEFAULT) \n",
    "        augmented_training_set.append([blurred_image/255, class_number])\n",
    "        #Add edge images\n",
    "        edge_image = cv2.Canny(new_array, 100, 200)\n",
    "        edge_image = color.gray2rgb(edge_image)\n",
    "        augmented_training_set.append([edge_image/255, class_number])\n",
    "        #Compute FFT\n",
    "        img_transform = new_array\n",
    "        img_transform = color.rgb2gray(img_transform)\n",
    "        f = np.fft.fft2(img_transform)\n",
    "        fshift = np.fft.fftshift(f)\n",
    "        magnitude_spectrum = 20*np.log(np.abs(fshift))\n",
    "        #Apply HPF and IFFT\n",
    "        rows, cols= img_transform.shape\n",
    "        crow,ccol= round(rows/2) , round(cols/2)\n",
    "        fshift[crow-30:crow+30, ccol-30:ccol+30] = 0\n",
    "        f_ishift = np.fft.ifftshift(fshift)\n",
    "        img_back = np.fft.ifft2(f_ishift)\n",
    "        img_back = np.abs(img_back)\n",
    "        #Get back to a \"color\" image \n",
    "        img_back = color.gray2rgb(img_back)\n",
    "        #augmented_training_set.append([img_back, class_number])\n",
    "        \n",
    "create_augmented_training_set()\n",
    "print(len(augmented_training_set))"
   ]
  },
  {
   "cell_type": "code",
   "execution_count": null,
   "metadata": {
    "id": "mTvgPG4izfSU"
   },
   "outputs": [],
   "source": [
    "#SHUFFLE THE DATA\n",
    "\n",
    "random.shuffle(training_set)\n",
    "random.shuffle(test_set)\n",
    "random.shuffle(augmented_training_set)"
   ]
  },
  {
   "cell_type": "code",
   "execution_count": null,
   "metadata": {
    "id": "2wxLAH1KyE_s"
   },
   "outputs": [],
   "source": [
    "#SEPARATE FEATURES AND LABELS\n",
    "\n",
    "x_train=[]\n",
    "y_train=[]\n",
    "\n",
    "for features, label in training_set:\n",
    "    x_train.append(features)\n",
    "    y_train.append(label)\n",
    "\n",
    "x_test=[]\n",
    "y_test=[]\n",
    "\n",
    "for features, label in test_set:\n",
    "    x_test.append(features)\n",
    "    y_test.append(label)\n",
    "\n",
    "x_train_aug=[]\n",
    "y_train_aug=[]\n",
    "\n",
    "for features, label in augmented_training_set:\n",
    "    x_train_aug.append(features)\n",
    "    y_train_aug.append(label)\n",
    "\n",
    "#Convert features and labels to NumpyArrays\n",
    "x_train=np.array(x_train).reshape(-1, PIXELS, PIXELS, 3)\n",
    "x_test=np.array(x_test).reshape(-1, PIXELS, PIXELS, 3)\n",
    "x_train_aug=np.array(x_train_aug).reshape(-1, PIXELS, PIXELS, 3)\n",
    "\n",
    "y_train=np.array(y_train)\n",
    "y_train_aug=np.array(y_train_aug)\n",
    "\n",
    "#Normalize training and test set\n",
    "x_test=x_test/255\n",
    "x_train=x_train/255"
   ]
  },
  {
   "cell_type": "code",
   "execution_count": null,
   "metadata": {
    "colab": {
     "base_uri": "https://localhost:8080/"
    },
    "id": "uZWpspaPddUM",
    "outputId": "4c92a207-5e49-47cb-de19-fcfd80bf276a"
   },
   "outputs": [
    {
     "name": "stdout",
     "output_type": "stream",
     "text": [
      "WARNING:tensorflow:From /usr/local/lib/python3.6/dist-packages/tensorflow_core/python/ops/resource_variable_ops.py:1630: calling BaseResourceVariable.__init__ (from tensorflow.python.ops.resource_variable_ops) with constraint is deprecated and will be removed in a future version.\n",
      "Instructions for updating:\n",
      "If using Keras pass *_constraint arguments to layers.\n",
      "Model: \"sequential\"\n",
      "_________________________________________________________________\n",
      "Layer (type)                 Output Shape              Param #   \n",
      "=================================================================\n",
      "conv2d (Conv2D)              (None, 100, 100, 80)      320       \n",
      "_________________________________________________________________\n",
      "max_pooling2d (MaxPooling2D) (None, 99, 99, 80)        0         \n",
      "_________________________________________________________________\n",
      "conv2d_1 (Conv2D)            (None, 50, 50, 60)        4860      \n",
      "_________________________________________________________________\n",
      "max_pooling2d_1 (MaxPooling2 (None, 25, 25, 60)        0         \n",
      "_________________________________________________________________\n",
      "conv2d_2 (Conv2D)            (None, 25, 25, 40)        2440      \n",
      "_________________________________________________________________\n",
      "max_pooling2d_2 (MaxPooling2 (None, 24, 24, 40)        0         \n",
      "_________________________________________________________________\n",
      "flatten (Flatten)            (None, 23040)             0         \n",
      "_________________________________________________________________\n",
      "dense (Dense)                (None, 100)               2304100   \n",
      "_________________________________________________________________\n",
      "dropout (Dropout)            (None, 100)               0         \n",
      "_________________________________________________________________\n",
      "dense_1 (Dense)              (None, 4)                 404       \n",
      "=================================================================\n",
      "Total params: 2,312,124\n",
      "Trainable params: 2,312,124\n",
      "Non-trainable params: 0\n",
      "_________________________________________________________________\n",
      "None\n"
     ]
    }
   ],
   "source": [
    "#CREATE THE MODEL\n",
    "\n",
    "from keras.models import Sequential\n",
    "from keras.layers import Dense, Activation, Dropout, Flatten,\\\n",
    "                         Conv2D, MaxPooling2D, AveragePooling2D, GlobalAveragePooling2D,\\\n",
    "                         UpSampling2D\n",
    "from keras.layers.normalization import BatchNormalization\n",
    "from keras import regularizers\n",
    "from keras import optimizers\n",
    "\n",
    "import tensorflow as tf\n",
    "from tensorflow.keras.models import Sequential\n",
    "from tensorflow.keras.layers import Dense, Activation, Dropout, Flatten, Conv2D, MaxPooling2D\n",
    "\n",
    "model = Sequential()\n",
    "    \n",
    "#C1\n",
    "model.add(Conv2D(80, kernel_size=(1, 1), strides=(2, 2), activation='relu', input_shape=x_train.shape[1:], padding=\"valid\"))\n",
    "model.add(MaxPooling2D(pool_size=(2, 2), strides=(1, 1), padding='valid'))\n",
    "\n",
    "#C2\n",
    "model.add(Conv2D(60, kernel_size=(1, 1), strides=(2, 2), activation='relu', padding=\"valid\"))\n",
    "model.add(MaxPooling2D(pool_size=(2, 2), strides=(2, 2), padding='valid'))\n",
    "\n",
    "#C3\n",
    "model.add(Conv2D(40, kernel_size=(1, 1), strides=(1, 1), activation='relu', padding=\"valid\"))\n",
    "model.add(MaxPooling2D(pool_size=(2, 2), strides=(1, 1), padding='valid'))\n",
    "\n",
    "#flatten data\n",
    "model.add(Flatten())\n",
    "\n",
    "#D1\n",
    "model.add(Dense(100, activation='relu'))#, kernel_regularizer=keras.regularizers.l2(0.01)))\n",
    "model.add(Dropout(0.3))\n",
    "\n",
    "#Output Layer \n",
    "model.add(Dense(4, activation=\"softmax\"))\n",
    "\n",
    "#Compile the generated model\n",
    "model.compile(loss=\"sparse_categorical_crossentropy\", optimizer=\"adam\", metrics=['accuracy'])\n",
    "\n",
    "print(model.summary())"
   ]
  },
  {
   "cell_type": "code",
   "execution_count": null,
   "metadata": {
    "colab": {
     "base_uri": "https://localhost:8080/",
     "height": 535
    },
    "id": "qRFMFjHNknP-",
    "outputId": "55b43d4f-d40f-41cd-b524-aedb790f008e"
   },
   "outputs": [
    {
     "name": "stdout",
     "output_type": "stream",
     "text": [
      "Train on 400 samples, validate on 400 samples\n",
      "Epoch 1/20\n",
      "400/400 [==============================] - 2s 5ms/sample - loss: 1.3124 - acc: 0.4175 - val_loss: 1.0254 - val_acc: 0.6250\n",
      "Epoch 2/20\n",
      "400/400 [==============================] - 1s 1ms/sample - loss: 0.9062 - acc: 0.6075 - val_loss: 0.7878 - val_acc: 0.6975\n",
      "Epoch 3/20\n",
      "400/400 [==============================] - 1s 1ms/sample - loss: 0.6983 - acc: 0.6925 - val_loss: 0.8509 - val_acc: 0.6700\n",
      "Epoch 4/20\n",
      "400/400 [==============================] - 1s 1ms/sample - loss: 0.6475 - acc: 0.7500 - val_loss: 0.7491 - val_acc: 0.7125\n",
      "Epoch 5/20\n",
      "400/400 [==============================] - 1s 1ms/sample - loss: 0.5576 - acc: 0.7900 - val_loss: 0.8017 - val_acc: 0.7025\n",
      "Epoch 6/20\n",
      "400/400 [==============================] - 1s 1ms/sample - loss: 0.5111 - acc: 0.7950 - val_loss: 0.7416 - val_acc: 0.7200\n",
      "Epoch 7/20\n",
      "400/400 [==============================] - 1s 1ms/sample - loss: 0.4302 - acc: 0.8150 - val_loss: 0.7163 - val_acc: 0.7200\n",
      "Epoch 8/20\n",
      "400/400 [==============================] - 1s 1ms/sample - loss: 0.3965 - acc: 0.8325 - val_loss: 0.8004 - val_acc: 0.7150\n",
      "Epoch 9/20\n",
      "400/400 [==============================] - 1s 1ms/sample - loss: 0.3614 - acc: 0.8675 - val_loss: 0.9467 - val_acc: 0.6700\n",
      "Epoch 10/20\n",
      "400/400 [==============================] - 1s 1ms/sample - loss: 0.3321 - acc: 0.8775 - val_loss: 0.8969 - val_acc: 0.7250\n",
      "Epoch 11/20\n",
      "400/400 [==============================] - 1s 1ms/sample - loss: 0.2752 - acc: 0.9200 - val_loss: 0.8260 - val_acc: 0.7375\n",
      "Epoch 12/20\n",
      "400/400 [==============================] - 1s 1ms/sample - loss: 0.2349 - acc: 0.9125 - val_loss: 0.8669 - val_acc: 0.7025\n",
      "Epoch 13/20\n",
      "400/400 [==============================] - 1s 2ms/sample - loss: 0.1979 - acc: 0.9400 - val_loss: 0.9046 - val_acc: 0.7325\n",
      "Epoch 14/20\n",
      "400/400 [==============================] - 1s 1ms/sample - loss: 0.1691 - acc: 0.9525 - val_loss: 0.9830 - val_acc: 0.7125\n",
      "Epoch 15/20\n",
      "400/400 [==============================] - 1s 1ms/sample - loss: 0.1882 - acc: 0.9350 - val_loss: 1.1219 - val_acc: 0.7125\n"
     ]
    }
   ],
   "source": [
    "#TRAINING SETUP \n",
    "from keras import callbacks\n",
    "\n",
    "nepochs = 20       # nr. of learning steps\n",
    "batch_size = 16    # batch_size\n",
    "stopping = callbacks.EarlyStopping(monitor='val_acc', patience=4) # early stopping condition \n",
    "\n",
    "h=model.fit(x_train, y_train, batch_size=batch_size, epochs=nepochs, validation_split=0.2, validation_data=(x_test, y_test), callbacks=[stopping])"
   ]
  },
  {
   "cell_type": "code",
   "execution_count": null,
   "metadata": {
    "colab": {
     "base_uri": "https://localhost:8080/"
    },
    "id": "_6Sa5hqP02e4",
    "outputId": "2097391c-5edd-41c8-e8ab-9db8d3dead6c"
   },
   "outputs": [
    {
     "name": "stdout",
     "output_type": "stream",
     "text": [
      "[[92  2  5  1]\n",
      " [10 65 22  3]\n",
      " [20 29 51  0]\n",
      " [ 9 10  4 77]]\n",
      "              precision    recall  f1-score   support\n",
      "\n",
      "           0      0.702     0.920     0.797       100\n",
      "           1      0.613     0.650     0.631       100\n",
      "           2      0.622     0.510     0.560       100\n",
      "           3      0.951     0.770     0.851       100\n",
      "\n",
      "   micro avg      0.713     0.713     0.713       400\n",
      "   macro avg      0.722     0.713     0.710       400\n",
      "weighted avg      0.722     0.713     0.710       400\n",
      " samples avg      0.713     0.713     0.713       400\n",
      "\n"
     ]
    }
   ],
   "source": [
    "#PERFORMANCE METRICS PLOT\n",
    "\n",
    "num_classes=4\n",
    "preds= model.predict(x_test)\n",
    "y_pred = np.argmax(preds, axis=1)\n",
    "cm = confusion_matrix(y_test, y_pred, labels=None, sample_weight=None)\n",
    "print(cm)\n",
    "y_pred = keras.utils.to_categorical(y_pred, num_classes)\n",
    "y_test = keras.utils.to_categorical(y_test, num_classes)\n",
    "print(classification_report(y_test, y_pred, labels=None, digits=3))"
   ]
  },
  {
   "cell_type": "code",
   "execution_count": null,
   "metadata": {
    "colab": {
     "base_uri": "https://localhost:8080/",
     "height": 449
    },
    "id": "BvXj9pzPLIu4",
    "outputId": "a2a6b245-7692-4cfe-8e1a-06c3fda8d501"
   },
   "outputs": [
    {
     "data": {
      "text/plain": [
       "<matplotlib.axes._subplots.AxesSubplot at 0x7f15dc551358>"
      ]
     },
     "execution_count": 11,
     "metadata": {
      "tags": []
     },
     "output_type": "execute_result"
    },
    {
     "data": {
      "image/png": "[encoded data removed]",
      "text/plain": [
       "<Figure size 720x504 with 2 Axes>"
      ]
     },
     "metadata": {
      "tags": []
     },
     "output_type": "display_data"
    }
   ],
   "source": [
    "#CONFUSION MATRIX PLOT\n",
    "\n",
    "import seaborn as sn\n",
    "import pandas as pd\n",
    "import matplotlib.pyplot as plt\n",
    "cmap = 'YlOrRd'\n",
    "cmap = 'PuBuGn'\n",
    "cmap = 'inferno'\n",
    "cmap = 'Oranges'\n",
    "\n",
    "array = [[90,  2, 7,  1],\n",
    " [ 10, 49, 37,  4],\n",
    " [17,  8, 74,  1],\n",
    " [ 7,  7,  7, 79]]\n",
    "df_cm = pd.DataFrame(array, index = [i for i in \"1234\"],\n",
    "                  columns = [i for i in \"1234\"])\n",
    "plt.figure(figsize = (10,7))\n",
    "sn.heatmap(df_cm, cmap= 'YlOrRd', annot=True)"
   ]
  },
  {
   "cell_type": "code",
   "execution_count": null,
   "metadata": {
    "colab": {
     "base_uri": "https://localhost:8080/"
    },
    "id": "3DNqWhlK0sdQ",
    "outputId": "4c469ff9-b401-49ba-e7b8-766f2c20b19a"
   },
   "outputs": [
    {
     "data": {
      "image/png": "[encoded data removed]",
      "text/plain": [
       "<Figure size 432x288 with 1 Axes>"
      ]
     },
     "metadata": {
      "tags": []
     },
     "output_type": "display_data"
    },
    {
     "data": {
      "image/png": "[encoded data removed]",
      "text/plain": [
       "<Figure size 432x288 with 1 Axes>"
      ]
     },
     "metadata": {
      "tags": []
     },
     "output_type": "display_data"
    }
   ],
   "source": [
    "#LOSS AND ACCURACY PLOTS\n",
    "\n",
    "#Loss comparision\n",
    "plt.plot(h.history['loss'],'r')\n",
    "plt.plot(h.history['val_loss'],'b')\n",
    "plt.ylabel('loss')\n",
    "plt.xlabel('epoch')\n",
    "plt.suptitle('Model loss comparison', fontsize=14)\n",
    "plt.legend(['train', 'test'], loc='upper left')\n",
    "plt.show()\n",
    "\n",
    "#Accuracy comparison\n",
    "plt.plot(h.history['acc'],'r')\n",
    "plt.plot(h.history['val_acc'],'b')\n",
    "plt.ylabel('accuracy')\n",
    "plt.xlabel('epoch')\n",
    "plt.suptitle('Model accuracy comparison', fontsize=14)\n",
    "plt.legend(['train', 'test'], loc='upper left')\n",
    "plt.show()\n"
   ]
  },
  {
   "cell_type": "code",
   "execution_count": null,
   "metadata": {
    "colab": {
     "base_uri": "https://localhost:8080/"
    },
    "id": "leyBj9CGqSZW",
    "outputId": "ab1e1dad-7c5d-40b1-f514-1b74897e0f43"
   },
   "outputs": [
    {
     "name": "stdout",
     "output_type": "stream",
     "text": [
      "\n",
      "Model saved successfully on file /content/drive/My Drive/MWI-public-custom/models/4classes_KiffaNet_20_epochs_augmented data.h5\n",
      "\n"
     ]
    }
   ],
   "source": [
    "#SAVE THE MODEL\n",
    "\n",
    "models_dir = datadir + '/models/'\n",
    "\n",
    "def savemodel(model,problem):\n",
    "    filename = os.path.join(models_dir, '%s.h5' %problem)\n",
    "    model.save(filename)\n",
    "    print(\"\\nModel saved successfully on file %s\\n\" %filename)\n",
    "\n",
    "# Save the model\n",
    "savemodel(model, '4classes_KiffaNet_20_epochs_augmented data')"
   ]
  }
 ],
 "metadata": {
  "accelerator": "GPU",
  "colab": {
   "name": "Problem1-KiffaNet ",
   "provenance": []
  },
  "kernelspec": {
   "display_name": "Python 3 (ipykernel)",
   "language": "python",
   "name": "python3"
  },
  "language_info": {
   "codemirror_mode": {
    "name": "ipython",
    "version": 3
   },
   "file_extension": ".py",
   "mimetype": "text/x-python",
   "name": "python",
   "nbconvert_exporter": "python",
   "pygments_lexer": "ipython3",
   "version": "3.9.7"
  }
 },
 "nbformat": 4,
 "nbformat_minor": 4
}
